{
 "cells": [
  {
   "cell_type": "code",
   "execution_count": 1,
   "outputs": [
    {
     "data": {
      "text/plain": "       MLSS     MLVSS  turbidity  train 1 TMP  mode  train 2 TMP mode.1  \\\n0 -0.280713 -0.162677  -0.889879    -1.599297  pro'     0.650654   stb'   \n1 -1.072436 -0.884203  -0.858822    -0.955755  pro'    -0.605422   pro'   \n2       NaN       NaN        NaN          NaN   NaN          NaN    NaN   \n3       NaN       NaN        NaN          NaN   NaN          NaN    NaN   \n4 -0.879529 -0.708911  -0.905408    -1.017045  pro'    -0.632434   pro'   \n\n   train 3 TMP mode.2  train 4 TMP  ... flows t 3  flows t 4  tds  \\\n0    -1.002140   pro'    -0.454365  ...  0.135955   -1.53908  NaN   \n1    -0.739955   bkp'     1.195036  ...       NaN        NaN  NaN   \n2          NaN    NaN          NaN  ...       NaN        NaN  NaN   \n3          NaN    NaN          NaN  ...       NaN        NaN  NaN   \n4     0.904660   bkp'     0.598268  ...       NaN        NaN  NaN   \n\n   total nitrogen  cod inf  cod enf   enf mgd  salinity inf  Unnamed: 30  \\\n0             NaN      NaN      NaN  0.052989           NaN          NaN   \n1             NaN      NaN      NaN -0.364128           NaN          NaN   \n2             NaN      NaN      NaN       NaN           NaN          NaN   \n3             NaN      NaN      NaN       NaN           NaN          NaN   \n4             NaN      NaN      NaN  0.293710           NaN          NaN   \n\n    Unnamed: 31  \n0  01-Jan-2020'  \n1          NaT'  \n2           NaN  \n3           NaN  \n4          NaT'  \n\n[5 rows x 32 columns]",
      "text/html": "<div>\n<style scoped>\n    .dataframe tbody tr th:only-of-type {\n        vertical-align: middle;\n    }\n\n    .dataframe tbody tr th {\n        vertical-align: top;\n    }\n\n    .dataframe thead th {\n        text-align: right;\n    }\n</style>\n<table border=\"1\" class=\"dataframe\">\n  <thead>\n    <tr style=\"text-align: right;\">\n      <th></th>\n      <th>MLSS</th>\n      <th>MLVSS</th>\n      <th>turbidity</th>\n      <th>train 1 TMP</th>\n      <th>mode</th>\n      <th>train 2 TMP</th>\n      <th>mode.1</th>\n      <th>train 3 TMP</th>\n      <th>mode.2</th>\n      <th>train 4 TMP</th>\n      <th>...</th>\n      <th>flows t 3</th>\n      <th>flows t 4</th>\n      <th>tds</th>\n      <th>total nitrogen</th>\n      <th>cod inf</th>\n      <th>cod enf</th>\n      <th>enf mgd</th>\n      <th>salinity inf</th>\n      <th>Unnamed: 30</th>\n      <th>Unnamed: 31</th>\n    </tr>\n  </thead>\n  <tbody>\n    <tr>\n      <th>0</th>\n      <td>-0.280713</td>\n      <td>-0.162677</td>\n      <td>-0.889879</td>\n      <td>-1.599297</td>\n      <td>pro'</td>\n      <td>0.650654</td>\n      <td>stb'</td>\n      <td>-1.002140</td>\n      <td>pro'</td>\n      <td>-0.454365</td>\n      <td>...</td>\n      <td>0.135955</td>\n      <td>-1.53908</td>\n      <td>NaN</td>\n      <td>NaN</td>\n      <td>NaN</td>\n      <td>NaN</td>\n      <td>0.052989</td>\n      <td>NaN</td>\n      <td>NaN</td>\n      <td>01-Jan-2020'</td>\n    </tr>\n    <tr>\n      <th>1</th>\n      <td>-1.072436</td>\n      <td>-0.884203</td>\n      <td>-0.858822</td>\n      <td>-0.955755</td>\n      <td>pro'</td>\n      <td>-0.605422</td>\n      <td>pro'</td>\n      <td>-0.739955</td>\n      <td>bkp'</td>\n      <td>1.195036</td>\n      <td>...</td>\n      <td>NaN</td>\n      <td>NaN</td>\n      <td>NaN</td>\n      <td>NaN</td>\n      <td>NaN</td>\n      <td>NaN</td>\n      <td>-0.364128</td>\n      <td>NaN</td>\n      <td>NaN</td>\n      <td>NaT'</td>\n    </tr>\n    <tr>\n      <th>2</th>\n      <td>NaN</td>\n      <td>NaN</td>\n      <td>NaN</td>\n      <td>NaN</td>\n      <td>NaN</td>\n      <td>NaN</td>\n      <td>NaN</td>\n      <td>NaN</td>\n      <td>NaN</td>\n      <td>NaN</td>\n      <td>...</td>\n      <td>NaN</td>\n      <td>NaN</td>\n      <td>NaN</td>\n      <td>NaN</td>\n      <td>NaN</td>\n      <td>NaN</td>\n      <td>NaN</td>\n      <td>NaN</td>\n      <td>NaN</td>\n      <td>NaN</td>\n    </tr>\n    <tr>\n      <th>3</th>\n      <td>NaN</td>\n      <td>NaN</td>\n      <td>NaN</td>\n      <td>NaN</td>\n      <td>NaN</td>\n      <td>NaN</td>\n      <td>NaN</td>\n      <td>NaN</td>\n      <td>NaN</td>\n      <td>NaN</td>\n      <td>...</td>\n      <td>NaN</td>\n      <td>NaN</td>\n      <td>NaN</td>\n      <td>NaN</td>\n      <td>NaN</td>\n      <td>NaN</td>\n      <td>NaN</td>\n      <td>NaN</td>\n      <td>NaN</td>\n      <td>NaN</td>\n    </tr>\n    <tr>\n      <th>4</th>\n      <td>-0.879529</td>\n      <td>-0.708911</td>\n      <td>-0.905408</td>\n      <td>-1.017045</td>\n      <td>pro'</td>\n      <td>-0.632434</td>\n      <td>pro'</td>\n      <td>0.904660</td>\n      <td>bkp'</td>\n      <td>0.598268</td>\n      <td>...</td>\n      <td>NaN</td>\n      <td>NaN</td>\n      <td>NaN</td>\n      <td>NaN</td>\n      <td>NaN</td>\n      <td>NaN</td>\n      <td>0.293710</td>\n      <td>NaN</td>\n      <td>NaN</td>\n      <td>NaT'</td>\n    </tr>\n  </tbody>\n</table>\n<p>5 rows × 32 columns</p>\n</div>"
     },
     "execution_count": 1,
     "metadata": {},
     "output_type": "execute_result"
    }
   ],
   "source": [
    "# Packages\n",
    "import pandas as pd\n",
    "import numpy as np\n",
    "import missingno as msno\n",
    "import datetime\n",
    "import seaborn as sns\n",
    "from sklearn.model_selection import train_test_split\n",
    "from sklearn.metrics import mean_squared_error\n",
    "from ax.service.ax_client import AxClient\n",
    "from ax import optimize\n",
    "from ax.utils.notebook.plotting import render, init_notebook_plotting\n",
    "import tensorflow as tf\n",
    "from tensorflow import keras\n",
    "from tensorflow.keras import layers\n",
    "from sklearn.preprocessing import MinMaxScaler\n",
    "import matplotlib.pyplot as plt\n",
    "from sklearn.preprocessing import StandardScaler\n",
    "import plotly.graph_objects as go\n",
    "df = pd.read_excel('/Volumes/UNTITLED/Documents/DATASET_SEWER/NORMALIZED/FILLED/FILLED_NORMAL_ALL_TMP4.xlsx')\n",
    "df.head()"
   ],
   "metadata": {
    "collapsed": false,
    "pycharm": {
     "name": "#%%\n"
    }
   }
  },
  {
   "cell_type": "code",
   "execution_count": 2,
   "outputs": [
    {
     "name": "stdout",
     "output_type": "stream",
     "text": [
      "<class 'pandas.core.frame.DataFrame'>\n",
      "RangeIndex: 545 entries, 0 to 544\n",
      "Data columns (total 32 columns):\n",
      " #   Column          Non-Null Count  Dtype  \n",
      "---  ------          --------------  -----  \n",
      " 0   MLSS            301 non-null    float64\n",
      " 1   MLVSS           301 non-null    float64\n",
      " 2   turbidity       301 non-null    float64\n",
      " 3   train 1 TMP     302 non-null    float64\n",
      " 4   mode            302 non-null    object \n",
      " 5   train 2 TMP     302 non-null    float64\n",
      " 6   mode.1          302 non-null    object \n",
      " 7   train 3 TMP     302 non-null    float64\n",
      " 8   mode.2          302 non-null    object \n",
      " 9   train 4 TMP     302 non-null    float64\n",
      " 10  mode.3          302 non-null    object \n",
      " 11  ph inff         302 non-null    float64\n",
      " 12  bod inff        55 non-null     float64\n",
      " 13  bod pe          52 non-null     float64\n",
      " 14  bod eff         55 non-null     float64\n",
      " 15  tss inf         49 non-null     float64\n",
      " 16  tss enf         49 non-null     float64\n",
      " 17  temp inf        302 non-null    float64\n",
      " 18  nh3 inf         50 non-null     float64\n",
      " 19  day             302 non-null    float64\n",
      " 20  flows t 1       138 non-null    float64\n",
      " 21  flows t 2       138 non-null    float64\n",
      " 22  flows t 3       138 non-null    float64\n",
      " 23  flows t 4       138 non-null    float64\n",
      " 24  tds             9 non-null      float64\n",
      " 25  total nitrogen  23 non-null     float64\n",
      " 26  cod inf         21 non-null     float64\n",
      " 27  cod enf         21 non-null     float64\n",
      " 28  enf mgd         302 non-null    float64\n",
      " 29  salinity inf    173 non-null    float64\n",
      " 30  Unnamed: 30     0 non-null      float64\n",
      " 31  Unnamed: 31     302 non-null    object \n",
      "dtypes: float64(27), object(5)\n",
      "memory usage: 136.4+ KB\n"
     ]
    }
   ],
   "source": [
    "df.info()"
   ],
   "metadata": {
    "collapsed": false,
    "pycharm": {
     "name": "#%%\n"
    }
   }
  },
  {
   "cell_type": "code",
   "execution_count": null,
   "outputs": [],
   "source": [
    "msno.matrix(df.iloc[:, :30])\n",
    "\n",
    "data = df.drop(df.columns[[0, 2, 4, 5, 6, 7, 8, 9, 10, 11, 12, 13, 14, 15, 16, 17, 18, 19, 20, 21, 22, 23, 24, 25, 26, 27, 28, 29]], axis = 1)"
   ],
   "metadata": {
    "collapsed": false,
    "pycharm": {
     "name": "#%%\n"
    }
   }
  },
  {
   "cell_type": "code",
   "execution_count": null,
   "outputs": [],
   "source": [
    "data.info()"
   ],
   "metadata": {
    "collapsed": false,
    "pycharm": {
     "name": "#%%\n"
    }
   }
  },
  {
   "cell_type": "code",
   "execution_count": null,
   "outputs": [],
   "source": [
    "data['MLVSS'].hist(bins=1000)"
   ],
   "metadata": {
    "collapsed": false,
    "pycharm": {
     "name": "#%%\n"
    }
   }
  },
  {
   "cell_type": "code",
   "execution_count": null,
   "outputs": [],
   "source": [
    "data.boxplot(column=['MLVSS'])"
   ],
   "metadata": {
    "collapsed": false,
    "pycharm": {
     "name": "#%%\n"
    }
   }
  },
  {
   "cell_type": "code",
   "execution_count": null,
   "outputs": [],
   "source": [
    "data = data.dropna(axis = 0, how = \"any\")\n",
    "y = data['train 4 TMP']"
   ],
   "metadata": {
    "collapsed": false,
    "pycharm": {
     "name": "#%%\n"
    }
   }
  },
  {
   "cell_type": "code",
   "execution_count": null,
   "outputs": [],
   "source": [
    "data.info()"
   ],
   "metadata": {
    "collapsed": false,
    "pycharm": {
     "name": "#%%\n"
    }
   }
  },
  {
   "cell_type": "code",
   "execution_count": null,
   "outputs": [],
   "source": [
    "data['MLVSS'].plot()"
   ],
   "metadata": {
    "collapsed": false,
    "pycharm": {
     "name": "#%%\n"
    }
   }
  },
  {
   "cell_type": "code",
   "execution_count": null,
   "outputs": [],
   "source": [
    "pram_min = y.min()\n",
    "pram_max = y.max()\n",
    "pram_avg = y.mean()\n",
    "pram_std = y.std()"
   ],
   "metadata": {
    "collapsed": false,
    "pycharm": {
     "name": "#%%\n"
    }
   }
  },
  {
   "cell_type": "code",
   "execution_count": null,
   "outputs": [],
   "source": [
    "summary = {'Statistics of TMP': [pram_min, pram_max, pram_avg, pram_std]}\n",
    "stat_mpg = pd.DataFrame(data=summary, index=['Min', 'Max','Avg','Std'])\n",
    "stat_mpg"
   ],
   "metadata": {
    "collapsed": false,
    "pycharm": {
     "name": "#%%\n"
    }
   }
  },
  {
   "cell_type": "code",
   "execution_count": null,
   "outputs": [],
   "source": [
    "stat_mpg.plot(kind='bar', color='goldenrod')"
   ],
   "metadata": {
    "collapsed": false,
    "pycharm": {
     "name": "#%%\n"
    }
   }
  },
  {
   "cell_type": "code",
   "execution_count": null,
   "outputs": [],
   "source": [
    "sns.heatmap(data.corr(), annot = True, cmap = 'coolwarm')\n",
    "data.info()"
   ],
   "metadata": {
    "collapsed": false,
    "pycharm": {
     "name": "#%%\n"
    }
   }
  },
  {
   "cell_type": "code",
   "execution_count": null,
   "outputs": [],
   "source": [
    "data = data.drop('train 4 TMP', axis = 1)"
   ],
   "metadata": {
    "collapsed": false,
    "pycharm": {
     "name": "#%%\n"
    }
   }
  },
  {
   "cell_type": "code",
   "execution_count": null,
   "outputs": [],
   "source": [
    "X = data\n",
    "X"
   ],
   "metadata": {
    "collapsed": false,
    "pycharm": {
     "name": "#%%\n"
    }
   }
  },
  {
   "cell_type": "code",
   "execution_count": null,
   "outputs": [],
   "source": [
    "X_train, X_test, y_train, y_test = train_test_split(X, y, test_size=0.3, random_state=42)\n",
    "pd.DataFrame(data={'Set':['X_train','X_test','y_train','y_test'],\n",
    "                   'Shape':[X_train.shape, X_test.shape, y_train.shape, y_test.shape]}).set_index('Set').T"
   ],
   "metadata": {
    "collapsed": false,
    "pycharm": {
     "name": "#%%\n"
    }
   }
  },
  {
   "cell_type": "code",
   "execution_count": null,
   "outputs": [],
   "source": [
    "X_train_scaled = X_train\n",
    "X_test_scaled = X_test"
   ],
   "metadata": {
    "collapsed": false,
    "pycharm": {
     "name": "#%%\n"
    }
   }
  },
  {
   "cell_type": "code",
   "execution_count": null,
   "outputs": [],
   "source": [
    "# This returns a multi-layer-perceptron model in Keras.\n",
    "def get_keras_model(num_hidden_layers,\n",
    "                    num_neurons_per_layer,\n",
    "                    dropout_rate,\n",
    "                    activation):\n",
    "    # create the MLP model.\n",
    "\n",
    "    # define the layers.\n",
    "    inputs = tf.keras.Input(shape=(X_train_scaled.shape[1],))  # input layer.\n",
    "    x = layers.Dropout(dropout_rate)(inputs) # dropout on the weights.\n",
    "\n",
    "    # Add the hidden layers.\n",
    "    for i in range(num_hidden_layers):\n",
    "        x = layers.Dense(num_neurons_per_layer,\n",
    "                         activation=activation)(x)\n",
    "        x = layers.Dropout(dropout_rate)(x)\n",
    "\n",
    "    # output layer.\n",
    "    outputs = layers.Dense(1, activation='linear')(x)\n",
    "\n",
    "    model = tf.keras.Model(inputs=inputs, outputs=outputs)\n",
    "    return model\n",
    "\n",
    "\n",
    "# This function takes in the hyperparameters and returns a score (Cross validation).\n",
    "def keras_mlp_cv_score(parameterization, weight=None):\n",
    "\n",
    "    model = get_keras_model(parameterization.get('num_hidden_layers'),\n",
    "                            parameterization.get('neurons_per_layer'),\n",
    "                            parameterization.get('dropout_rate'),\n",
    "                            parameterization.get('activation'))\n",
    "\n",
    "    opt = parameterization.get('optimizer')\n",
    "    opt = opt.lower()\n",
    "\n",
    "    learning_rate = parameterization.get('learning_rate')\n",
    "\n",
    "    if opt == 'adam':\n",
    "        optimizer = tf.keras.optimizers.Adam(learning_rate=learning_rate)\n",
    "    elif opt == 'rms':\n",
    "        optimizer = tf.keras.optimizers.RMSprop(learning_rate=learning_rate)\n",
    "    elif opt == 'Ftrl':\n",
    "        optimizer = tf.keras.optimizers.Ftrl(learning_rate=learning_rate)\n",
    "    elif opt == 'Nadam':\n",
    "        optimizer = tf.keras.optimizers.Nadam(learning_rate=learning_rate)\n",
    "    elif opt == 'Adamax':\n",
    "        optimizer = tf.keras.optimizers.Adamax(learning_rate=learning_rate)\n",
    "    elif opt == 'Adagrad':\n",
    "        optimizer = tf.keras.optimizers.Adagrad(learning_rate=learning_rate)\n",
    "    elif opt == 'Adadelta':\n",
    "        optimizer = tf.keras.optimizers.Adadelta(learning_rate=learning_rate)\n",
    "    else:\n",
    "        optimizer = tf.keras.optimizers.SGD(learning_rate=learning_rate)\n",
    "\n",
    "    NUM_EPOCHS = 50\n",
    "\n",
    "    # Specify the training configuration.\n",
    "    model.compile(optimizer=optimizer,\n",
    "                  loss=tf.keras.losses.MeanSquaredError(),\n",
    "                  metrics=['mse'])\n",
    "\n",
    "    data = X_train_scaled\n",
    "    labels = y_train.values\n",
    "\n",
    "    # fit the model using a 20% validation set.\n",
    "    res = model.fit(data, labels, epochs=NUM_EPOCHS, batch_size=parameterization.get('batch_size'),\n",
    "                    validation_split=0.2)\n",
    "\n",
    "    # look at the last 10 epochs. Get the mean and standard deviation of the validation score.\n",
    "    last10_scores = np.array(res.history['val_loss'][-10:])\n",
    "    mean = last10_scores.mean()\n",
    "    sem = last10_scores.std()\n",
    "\n",
    "    # If the model didn't converge then set a high loss.\n",
    "    if np.isnan(mean):\n",
    "        return 9999.0, 0.0\n",
    "\n",
    "    return mean, sem"
   ],
   "metadata": {
    "collapsed": false,
    "pycharm": {
     "name": "#%%\n"
    }
   }
  },
  {
   "cell_type": "code",
   "execution_count": null,
   "outputs": [],
   "source": [
    "# Define the search space.\n",
    "parameters=[\n",
    "    {\n",
    "        \"name\": \"learning_rate\",\n",
    "        \"type\": \"range\",\n",
    "        \"bounds\": [0.0001, 0.5],\n",
    "        \"log_scale\": True,\n",
    "    },\n",
    "    {\n",
    "        \"name\": \"dropout_rate\",\n",
    "        \"type\": \"range\",\n",
    "        \"bounds\": [0.01, 0.5],\n",
    "        \"log_scale\": True,\n",
    "    },\n",
    "    {\n",
    "        \"name\": \"num_hidden_layers\",\n",
    "        \"type\": \"range\",\n",
    "        \"bounds\": [1, 10],\n",
    "        \"value_type\": \"int\"\n",
    "    },\n",
    "    {\n",
    "        \"name\": \"neurons_per_layer\",\n",
    "        \"type\": \"range\",\n",
    "        \"bounds\": [1, 300],\n",
    "        \"value_type\": \"int\"\n",
    "    },\n",
    "    {\n",
    "        \"name\": \"batch_size\",\n",
    "        \"type\": \"range\",\n",
    "        \"bounds\": [1, 500],\n",
    "        'value_type' : 'int'\n",
    "    },\n",
    "\n",
    "    {\n",
    "        \"name\": \"activation\",\n",
    "        \"type\": \"choice\",\n",
    "        \"values\": ['tanh', 'sigmoid', 'relu', 'softmax', 'selu', 'elu', 'LeakyReLU'],\n",
    "    },\n",
    "    {\n",
    "        \"name\": \"optimizer\",\n",
    "        \"type\": \"choice\",\n",
    "        \"values\": ['adam', 'rms', 'sgd', 'Nadam', 'Ftrl', 'Adagrad', 'Adamax', 'Adadelta' ],\n",
    "    },\n",
    "]"
   ],
   "metadata": {
    "collapsed": false,
    "pycharm": {
     "name": "#%%\n"
    }
   }
  },
  {
   "cell_type": "code",
   "execution_count": null,
   "outputs": [],
   "source": [
    "# import more packages\n",
    "from ax.service.ax_client import AxClient\n",
    "from ax.utils.notebook.plotting import render, init_notebook_plotting\n",
    "\n",
    "init_notebook_plotting()\n",
    "\n",
    "ax_client = AxClient()\n",
    "\n",
    "# create the experiment.\n",
    "ax_client.create_experiment(\n",
    "    name=\"keras_experiment\",\n",
    "    parameters=parameters,\n",
    "    objective_name='keras_cv',\n",
    "    minimize=True)\n",
    "\n",
    "def evaluate(parameters):\n",
    "    return {\"keras_cv\": keras_mlp_cv_score(parameters)}\n",
    "\n",
    "# Based on the search space, this will use Sobol (https://en.wikipedia.org/wiki/Sobol_sequence) instead of a Guassian Process (GPEI).\n",
    "#\n",
    "# From the source code:\n",
    "#     \"\"\"We should use only Sobol and not GPEI if:\n",
    "#     1. there are less continuous parameters in the search space than the sum of\n",
    "#     options for the choice parameters,\n",
    "#     2. the number of total iterations in the optimization is known in advance and\n",
    "#     there are less distinct points in the search space than the known intended\n",
    "#     number of total iterations.\n",
    "#     \"\"\"\n",
    "\n",
    "# Sobol sequences seem to be better than random for high-dimensional spaces:\n",
    "# https://en.wikipedia.org/wiki/Quasi-Monte_Carlo_method"
   ],
   "metadata": {
    "collapsed": false,
    "pycharm": {
     "name": "#%%\n"
    }
   }
  },
  {
   "cell_type": "code",
   "execution_count": null,
   "outputs": [],
   "source": [
    "for i in range(100):\n",
    "    parameters, trial_index = ax_client.get_next_trial()\n",
    "    ax_client.complete_trial(trial_index=trial_index, raw_data=evaluate(parameters))"
   ],
   "metadata": {
    "collapsed": false,
    "pycharm": {
     "name": "#%%\n"
    }
   }
  },
  {
   "cell_type": "code",
   "execution_count": null,
   "outputs": [],
   "source": [
    "# look at all the trials.\n",
    "ax_client.get_trials_data_frame().sort_values('trial_index')"
   ],
   "metadata": {
    "collapsed": false,
    "pycharm": {
     "name": "#%%\n"
    }
   }
  },
  {
   "cell_type": "code",
   "execution_count": null,
   "outputs": [],
   "source": [
    "# View best parameters\n",
    "best_parameters, values = ax_client.get_best_parameters()\n",
    "\n",
    "# the best set of parameters.\n",
    "for k in best_parameters.items():\n",
    "    print(k)\n",
    "\n",
    "print()\n",
    "\n",
    "# the best score achieved.\n",
    "means, covariances = values\n",
    "print(means)"
   ],
   "metadata": {
    "collapsed": false,
    "pycharm": {
     "name": "#%%\n"
    }
   }
  },
  {
   "cell_type": "code",
   "execution_count": null,
   "outputs": [],
   "source": [
    "render(ax_client.get_optimization_trace()) # Objective_optimum is optional.\n",
    "\n",
    "# Cannot do contour plot because it doesn't use a GP model."
   ],
   "metadata": {
    "collapsed": false,
    "pycharm": {
     "name": "#%%\n"
    }
   }
  },
  {
   "cell_type": "code",
   "execution_count": null,
   "outputs": [],
   "source": [
    "# save results to json file.\n",
    "ax_client.save_to_json_file()\n",
    "\n",
    "# restore the client from json file. Handy if you want to do more trials or if your computer crashed in the middle of the trials.\n",
    "restored_ax_client = AxClient.load_from_json_file()"
   ],
   "metadata": {
    "collapsed": false,
    "pycharm": {
     "name": "#%%\n"
    }
   }
  }
 ],
 "metadata": {
  "kernelspec": {
   "display_name": "Python 3",
   "language": "python",
   "name": "python3"
  },
  "language_info": {
   "codemirror_mode": {
    "name": "ipython",
    "version": 2
   },
   "file_extension": ".py",
   "mimetype": "text/x-python",
   "name": "python",
   "nbconvert_exporter": "python",
   "pygments_lexer": "ipython2",
   "version": "2.7.6"
  }
 },
 "nbformat": 4,
 "nbformat_minor": 0
}