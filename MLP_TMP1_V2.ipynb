{
 "cells": [
  {
   "cell_type": "code",
   "execution_count": 16,
   "outputs": [],
   "source": [
    "import pandas as pd\n",
    "import random"
   ],
   "metadata": {
    "collapsed": false,
    "pycharm": {
     "name": "#%%\n"
    }
   }
  },
  {
   "cell_type": "code",
   "execution_count": 17,
   "outputs": [
    {
     "data": {
      "text/plain": "       MLSS     MLVSS  turbidity  train 1 TMP  mode  train 2 TMP mode.1  \\\n0 -0.280713 -0.162677  -0.889879    -1.599297  pro'     0.650654   stb'   \n1 -1.072436 -0.884203  -0.858822    -0.955755  pro'    -0.605422   pro'   \n2       NaN       NaN        NaN          NaN   NaN          NaN    NaN   \n3       NaN       NaN        NaN          NaN   NaN          NaN    NaN   \n4 -0.879529 -0.708911  -0.905408    -1.017045  pro'    -0.632434   pro'   \n\n   train 3 TMP mode.2  train 4 TMP  ... flows t 3  flows t 4  tds  \\\n0    -1.002140   pro'    -0.454365  ...  0.135955   -1.53908  NaN   \n1    -0.739955   bkp'     1.195036  ...       NaN        NaN  NaN   \n2          NaN    NaN          NaN  ...       NaN        NaN  NaN   \n3          NaN    NaN          NaN  ...       NaN        NaN  NaN   \n4     0.904660   bkp'     0.598268  ...       NaN        NaN  NaN   \n\n   total nitrogen  cod inf  cod enf   enf mgd  salinity inf  Unnamed: 30  \\\n0             NaN      NaN      NaN  0.052989           NaN          NaN   \n1             NaN      NaN      NaN -0.364128           NaN          NaN   \n2             NaN      NaN      NaN       NaN           NaN          NaN   \n3             NaN      NaN      NaN       NaN           NaN          NaN   \n4             NaN      NaN      NaN  0.293710           NaN          NaN   \n\n    Unnamed: 31  \n0  01-Jan-2020'  \n1          NaT'  \n2           NaN  \n3           NaN  \n4          NaT'  \n\n[5 rows x 32 columns]",
      "text/html": "<div>\n<style scoped>\n    .dataframe tbody tr th:only-of-type {\n        vertical-align: middle;\n    }\n\n    .dataframe tbody tr th {\n        vertical-align: top;\n    }\n\n    .dataframe thead th {\n        text-align: right;\n    }\n</style>\n<table border=\"1\" class=\"dataframe\">\n  <thead>\n    <tr style=\"text-align: right;\">\n      <th></th>\n      <th>MLSS</th>\n      <th>MLVSS</th>\n      <th>turbidity</th>\n      <th>train 1 TMP</th>\n      <th>mode</th>\n      <th>train 2 TMP</th>\n      <th>mode.1</th>\n      <th>train 3 TMP</th>\n      <th>mode.2</th>\n      <th>train 4 TMP</th>\n      <th>...</th>\n      <th>flows t 3</th>\n      <th>flows t 4</th>\n      <th>tds</th>\n      <th>total nitrogen</th>\n      <th>cod inf</th>\n      <th>cod enf</th>\n      <th>enf mgd</th>\n      <th>salinity inf</th>\n      <th>Unnamed: 30</th>\n      <th>Unnamed: 31</th>\n    </tr>\n  </thead>\n  <tbody>\n    <tr>\n      <th>0</th>\n      <td>-0.280713</td>\n      <td>-0.162677</td>\n      <td>-0.889879</td>\n      <td>-1.599297</td>\n      <td>pro'</td>\n      <td>0.650654</td>\n      <td>stb'</td>\n      <td>-1.002140</td>\n      <td>pro'</td>\n      <td>-0.454365</td>\n      <td>...</td>\n      <td>0.135955</td>\n      <td>-1.53908</td>\n      <td>NaN</td>\n      <td>NaN</td>\n      <td>NaN</td>\n      <td>NaN</td>\n      <td>0.052989</td>\n      <td>NaN</td>\n      <td>NaN</td>\n      <td>01-Jan-2020'</td>\n    </tr>\n    <tr>\n      <th>1</th>\n      <td>-1.072436</td>\n      <td>-0.884203</td>\n      <td>-0.858822</td>\n      <td>-0.955755</td>\n      <td>pro'</td>\n      <td>-0.605422</td>\n      <td>pro'</td>\n      <td>-0.739955</td>\n      <td>bkp'</td>\n      <td>1.195036</td>\n      <td>...</td>\n      <td>NaN</td>\n      <td>NaN</td>\n      <td>NaN</td>\n      <td>NaN</td>\n      <td>NaN</td>\n      <td>NaN</td>\n      <td>-0.364128</td>\n      <td>NaN</td>\n      <td>NaN</td>\n      <td>NaT'</td>\n    </tr>\n    <tr>\n      <th>2</th>\n      <td>NaN</td>\n      <td>NaN</td>\n      <td>NaN</td>\n      <td>NaN</td>\n      <td>NaN</td>\n      <td>NaN</td>\n      <td>NaN</td>\n      <td>NaN</td>\n      <td>NaN</td>\n      <td>NaN</td>\n      <td>...</td>\n      <td>NaN</td>\n      <td>NaN</td>\n      <td>NaN</td>\n      <td>NaN</td>\n      <td>NaN</td>\n      <td>NaN</td>\n      <td>NaN</td>\n      <td>NaN</td>\n      <td>NaN</td>\n      <td>NaN</td>\n    </tr>\n    <tr>\n      <th>3</th>\n      <td>NaN</td>\n      <td>NaN</td>\n      <td>NaN</td>\n      <td>NaN</td>\n      <td>NaN</td>\n      <td>NaN</td>\n      <td>NaN</td>\n      <td>NaN</td>\n      <td>NaN</td>\n      <td>NaN</td>\n      <td>...</td>\n      <td>NaN</td>\n      <td>NaN</td>\n      <td>NaN</td>\n      <td>NaN</td>\n      <td>NaN</td>\n      <td>NaN</td>\n      <td>NaN</td>\n      <td>NaN</td>\n      <td>NaN</td>\n      <td>NaN</td>\n    </tr>\n    <tr>\n      <th>4</th>\n      <td>-0.879529</td>\n      <td>-0.708911</td>\n      <td>-0.905408</td>\n      <td>-1.017045</td>\n      <td>pro'</td>\n      <td>-0.632434</td>\n      <td>pro'</td>\n      <td>0.904660</td>\n      <td>bkp'</td>\n      <td>0.598268</td>\n      <td>...</td>\n      <td>NaN</td>\n      <td>NaN</td>\n      <td>NaN</td>\n      <td>NaN</td>\n      <td>NaN</td>\n      <td>NaN</td>\n      <td>0.293710</td>\n      <td>NaN</td>\n      <td>NaN</td>\n      <td>NaT'</td>\n    </tr>\n  </tbody>\n</table>\n<p>5 rows × 32 columns</p>\n</div>"
     },
     "execution_count": 17,
     "metadata": {},
     "output_type": "execute_result"
    }
   ],
   "source": [
    "df = pd.read_excel('tmp1pro.xlsx')\n",
    "df.head()"
   ],
   "metadata": {
    "collapsed": false,
    "pycharm": {
     "name": "#%%\n"
    }
   }
  },
  {
   "cell_type": "code",
   "execution_count": 18,
   "outputs": [],
   "source": [
    "data = df.drop(df.columns[[1, 2, 4, 5, 6, 7, 8, 9, 10, 11, 12, 13, 14, 15, 16, 17, 18, 19, 20, 21, 22, 23, 24, 25, 26, 27, 28, 29, 30, 31]], axis = 1)"
   ],
   "metadata": {
    "collapsed": false,
    "pycharm": {
     "name": "#%%\n"
    }
   }
  },
  {
   "cell_type": "code",
   "execution_count": 19,
   "outputs": [
    {
     "name": "stdout",
     "output_type": "stream",
     "text": [
      "<class 'pandas.core.frame.DataFrame'>\n",
      "RangeIndex: 545 entries, 0 to 544\n",
      "Data columns (total 32 columns):\n",
      " #   Column          Non-Null Count  Dtype  \n",
      "---  ------          --------------  -----  \n",
      " 0   MLSS            301 non-null    float64\n",
      " 1   MLVSS           301 non-null    float64\n",
      " 2   turbidity       301 non-null    float64\n",
      " 3   train 1 TMP     302 non-null    float64\n",
      " 4   mode            302 non-null    object \n",
      " 5   train 2 TMP     302 non-null    float64\n",
      " 6   mode.1          302 non-null    object \n",
      " 7   train 3 TMP     302 non-null    float64\n",
      " 8   mode.2          302 non-null    object \n",
      " 9   train 4 TMP     302 non-null    float64\n",
      " 10  mode.3          302 non-null    object \n",
      " 11  ph inff         302 non-null    float64\n",
      " 12  bod inff        55 non-null     float64\n",
      " 13  bod pe          52 non-null     float64\n",
      " 14  bod eff         55 non-null     float64\n",
      " 15  tss inf         49 non-null     float64\n",
      " 16  tss enf         49 non-null     float64\n",
      " 17  temp inf        302 non-null    float64\n",
      " 18  nh3 inf         50 non-null     float64\n",
      " 19  day             302 non-null    float64\n",
      " 20  flows t 1       138 non-null    float64\n",
      " 21  flows t 2       138 non-null    float64\n",
      " 22  flows t 3       138 non-null    float64\n",
      " 23  flows t 4       138 non-null    float64\n",
      " 24  tds             9 non-null      float64\n",
      " 25  total nitrogen  23 non-null     float64\n",
      " 26  cod inf         21 non-null     float64\n",
      " 27  cod enf         21 non-null     float64\n",
      " 28  enf mgd         302 non-null    float64\n",
      " 29  salinity inf    173 non-null    float64\n",
      " 30  Unnamed: 30     0 non-null      float64\n",
      " 31  Unnamed: 31     302 non-null    object \n",
      "dtypes: float64(27), object(5)\n",
      "memory usage: 136.4+ KB\n"
     ]
    }
   ],
   "source": [
    "df.info()"
   ],
   "metadata": {
    "collapsed": false,
    "pycharm": {
     "name": "#%%\n"
    }
   }
  },
  {
   "cell_type": "code",
   "execution_count": 20,
   "outputs": [],
   "source": [
    "data = data.dropna(axis = 0, how = \"any\")\n",
    "y = data['train 1 TMP']\n",
    "y = y.to_numpy()"
   ],
   "metadata": {
    "collapsed": false,
    "pycharm": {
     "name": "#%%\n"
    }
   }
  },
  {
   "cell_type": "code",
   "execution_count": 21,
   "outputs": [
    {
     "name": "stdout",
     "output_type": "stream",
     "text": [
      "<class 'pandas.core.frame.DataFrame'>\n",
      "Int64Index: 301 entries, 0 to 544\n",
      "Data columns (total 1 columns):\n",
      " #   Column  Non-Null Count  Dtype  \n",
      "---  ------  --------------  -----  \n",
      " 0   MLSS    301 non-null    float64\n",
      "dtypes: float64(1)\n",
      "memory usage: 4.7 KB\n"
     ]
    }
   ],
   "source": [
    "data = data.drop('train 1 TMP', axis = 1)\n",
    "data.info()"
   ],
   "metadata": {
    "collapsed": false,
    "pycharm": {
     "name": "#%%\n"
    }
   }
  },
  {
   "cell_type": "code",
   "execution_count": 22,
   "outputs": [],
   "source": [
    "X = data.to_numpy()"
   ],
   "metadata": {
    "collapsed": false,
    "pycharm": {
     "name": "#%%\n"
    }
   }
  },
  {
   "cell_type": "code",
   "execution_count": 23,
   "outputs": [],
   "source": [
    "from sklearn.model_selection import train_test_split\n",
    "X_train, X_test, y_train, y_test = train_test_split(X, y, test_size=0.3, random_state=42)"
   ],
   "metadata": {
    "collapsed": false,
    "pycharm": {
     "name": "#%%\n"
    }
   }
  },
  {
   "cell_type": "code",
   "execution_count": 24,
   "outputs": [
    {
     "data": {
      "text/plain": "Set     X_train   X_test y_train y_test\nShape  (210, 1)  (91, 1)  (210,)  (91,)",
      "text/html": "<div>\n<style scoped>\n    .dataframe tbody tr th:only-of-type {\n        vertical-align: middle;\n    }\n\n    .dataframe tbody tr th {\n        vertical-align: top;\n    }\n\n    .dataframe thead th {\n        text-align: right;\n    }\n</style>\n<table border=\"1\" class=\"dataframe\">\n  <thead>\n    <tr style=\"text-align: right;\">\n      <th>Set</th>\n      <th>X_train</th>\n      <th>X_test</th>\n      <th>y_train</th>\n      <th>y_test</th>\n    </tr>\n  </thead>\n  <tbody>\n    <tr>\n      <th>Shape</th>\n      <td>(210, 1)</td>\n      <td>(91, 1)</td>\n      <td>(210,)</td>\n      <td>(91,)</td>\n    </tr>\n  </tbody>\n</table>\n</div>"
     },
     "execution_count": 24,
     "metadata": {},
     "output_type": "execute_result"
    }
   ],
   "source": [
    "pd.DataFrame(data={'Set':['X_train','X_test','y_train','y_test'],\n",
    "                   'Shape':[X_train.shape, X_test.shape, y_train.shape, y_test.shape]}).set_index('Set').T"
   ],
   "metadata": {
    "collapsed": false,
    "pycharm": {
     "name": "#%%\n"
    }
   }
  },
  {
   "cell_type": "code",
   "execution_count": 25,
   "outputs": [
    {
     "name": "stdout",
     "output_type": "stream",
     "text": [
      "Model: \"Keras_MLP_Model\"\n",
      "_________________________________________________________________\n",
      " Layer (type)                Output Shape              Param #   \n",
      "=================================================================\n",
      " dense_6 (Dense)             (None, 1)                 2         \n",
      "                                                                 \n",
      " dropout_3 (Dropout)         (None, 1)                 0         \n",
      "                                                                 \n",
      " dense_7 (Dense)             (None, 1)                 2         \n",
      "                                                                 \n",
      "=================================================================\n",
      "Total params: 4\n",
      "Trainable params: 4\n",
      "Non-trainable params: 0\n",
      "_________________________________________________________________\n",
      "You must install pydot (`pip install pydot`) and install graphviz (see instructions at https://graphviz.gitlab.io/download/) for plot_model/model_to_dot to work.\n"
     ]
    }
   ],
   "source": [
    "import tensorflow as tf\n",
    "from keras import Sequential\n",
    "from tensorflow import keras\n",
    "def Kmodel():\n",
    "    model = tf.keras.Sequential(name = \"Keras_MLP_Model\")\n",
    "    model.add(tf.keras.layers.Dense(X.shape[1], input_dim= X.shape[1], kernel_initializer='normal', activation='relu'))\n",
    "    model.add(tf.keras.layers.Dropout(0.018184008032022466))\n",
    "    model.add(tf.keras.layers.Dense(1, kernel_initializer='normal', activation='linear'))\n",
    "    model.compile(loss='mean_squared_error', optimizer='Adadelta')\n",
    "    return model\n",
    "\n",
    "Kmodel().summary(line_length=None, positions=None, print_fn=None)\n",
    "tf.keras.utils.plot_model(Kmodel(), show_shapes=True, show_layer_names=False, expand_nested = True, rankdir = 'LR')"
   ],
   "metadata": {
    "collapsed": false,
    "pycharm": {
     "name": "#%%\n"
    }
   }
  },
  {
   "cell_type": "code",
   "execution_count": 26,
   "outputs": [],
   "source": [
    "from scikeras.wrappers import KerasRegressor\n",
    "IT = int(1e2)\n",
    "kreg = KerasRegressor(model = Kmodel, epochs = IT, batch_size = X.shape[1], verbose=0)\n",
    "_ = kreg.fit(X_train, y_train, validation_data=(X_test, y_test), epochs= IT, batch_size=86, verbose = 0)"
   ],
   "metadata": {
    "collapsed": false,
    "pycharm": {
     "name": "#%%\n"
    }
   }
  },
  {
   "cell_type": "code",
   "execution_count": 26,
   "outputs": [],
   "source": [],
   "metadata": {
    "collapsed": false,
    "pycharm": {
     "name": "#%%\n"
    }
   }
  },
  {
   "cell_type": "code",
   "execution_count": 27,
   "outputs": [
    {
     "data": {
      "text/plain": "       Explained Variance  Max Error  Mean Absolute Error (MAE)  \\\nValue                 0.0       1.52                       0.65   \n\n       Mean Squared Error (MSE)  $R^2$  \nValue                      0.52  -1.96  ",
      "text/html": "<div>\n<style scoped>\n    .dataframe tbody tr th:only-of-type {\n        vertical-align: middle;\n    }\n\n    .dataframe tbody tr th {\n        vertical-align: top;\n    }\n\n    .dataframe thead th {\n        text-align: right;\n    }\n</style>\n<table border=\"1\" class=\"dataframe\">\n  <thead>\n    <tr style=\"text-align: right;\">\n      <th></th>\n      <th>Explained Variance</th>\n      <th>Max Error</th>\n      <th>Mean Absolute Error (MAE)</th>\n      <th>Mean Squared Error (MSE)</th>\n      <th>$R^2$</th>\n    </tr>\n  </thead>\n  <tbody>\n    <tr>\n      <th>Value</th>\n      <td>0.0</td>\n      <td>1.52</td>\n      <td>0.65</td>\n      <td>0.52</td>\n      <td>-1.96</td>\n    </tr>\n  </tbody>\n</table>\n</div>"
     },
     "metadata": {},
     "output_type": "display_data"
    }
   ],
   "source": [
    "from sklearn import metrics\n",
    "def Metrics(y_test, y_pred):\n",
    "    return pd.DataFrame({'Explained Variance' : [metrics.explained_variance_score(y_test, y_pred)],\n",
    "                         'Max Error' : [metrics.max_error(y_test, y_pred)],\n",
    "                         'Mean Absolute Error (MAE)' : [metrics.mean_absolute_error(y_test, y_pred)],\n",
    "                         'Mean Squared Error (MSE)' : [metrics.mean_squared_error(y_test, y_pred)],\n",
    "                         '$R^2$' : [metrics.r2_score(y_test, y_pred)]}, index = ['Value'])\n",
    "\n",
    "y_pred = kreg.predict(X_test)\n",
    "display(Metrics(y_test, y_pred).round(2))"
   ],
   "metadata": {
    "collapsed": false,
    "pycharm": {
     "name": "#%%\n"
    }
   }
  },
  {
   "cell_type": "code",
   "execution_count": 28,
   "outputs": [
    {
     "data": {
      "text/plain": "<Figure size 1296x216 with 1 Axes>",
      "image/png": "[encoded data removed]"
     },
     "metadata": {},
     "output_type": "display_data"
    }
   ],
   "source": [
    "import matplotlib.pyplot as plt\n",
    "plt.figure(figsize=(18,3))\n",
    "plt.plot(y_pred, c='blue', label=\"predictions\")\n",
    "plt.plot(y_test, c='red', label=\"target\")\n",
    "plt.legend(loc=\"upper right\")\n",
    "plt.show()"
   ],
   "metadata": {
    "collapsed": false,
    "pycharm": {
     "name": "#%%\n"
    }
   }
  },
  {
   "cell_type": "code",
   "execution_count": 29,
   "outputs": [
    {
     "ename": "ValueError",
     "evalue": "x, y, and format string must not be None",
     "output_type": "error",
     "traceback": [
      "\u001B[1;31m---------------------------------------------------------------------------\u001B[0m",
      "\u001B[1;31mValueError\u001B[0m                                Traceback (most recent call last)",
      "Input \u001B[1;32mIn [29]\u001B[0m, in \u001B[0;36m<cell line: 2>\u001B[1;34m()\u001B[0m\n\u001B[0;32m      1\u001B[0m plt\u001B[38;5;241m.\u001B[39mfigure(figsize\u001B[38;5;241m=\u001B[39m(\u001B[38;5;241m18\u001B[39m,\u001B[38;5;241m3\u001B[39m))\n\u001B[1;32m----> 2\u001B[0m \u001B[43mplt\u001B[49m\u001B[38;5;241;43m.\u001B[39;49m\u001B[43mplot\u001B[49m\u001B[43m(\u001B[49m\u001B[43mkreg\u001B[49m\u001B[38;5;241;43m.\u001B[39;49m\u001B[43mloss\u001B[49m\u001B[43m,\u001B[49m\u001B[43m \u001B[49m\u001B[43mc\u001B[49m\u001B[38;5;241;43m=\u001B[39;49m\u001B[38;5;124;43m'\u001B[39;49m\u001B[38;5;124;43mred\u001B[39;49m\u001B[38;5;124;43m'\u001B[39;49m\u001B[43m)\u001B[49m\n\u001B[0;32m      3\u001B[0m plt\u001B[38;5;241m.\u001B[39mshow()\n",
      "File \u001B[1;32m~\\anaconda3\\lib\\site-packages\\matplotlib\\pyplot.py:2757\u001B[0m, in \u001B[0;36mplot\u001B[1;34m(scalex, scaley, data, *args, **kwargs)\u001B[0m\n\u001B[0;32m   2755\u001B[0m \u001B[38;5;129m@_copy_docstring_and_deprecators\u001B[39m(Axes\u001B[38;5;241m.\u001B[39mplot)\n\u001B[0;32m   2756\u001B[0m \u001B[38;5;28;01mdef\u001B[39;00m \u001B[38;5;21mplot\u001B[39m(\u001B[38;5;241m*\u001B[39margs, scalex\u001B[38;5;241m=\u001B[39m\u001B[38;5;28;01mTrue\u001B[39;00m, scaley\u001B[38;5;241m=\u001B[39m\u001B[38;5;28;01mTrue\u001B[39;00m, data\u001B[38;5;241m=\u001B[39m\u001B[38;5;28;01mNone\u001B[39;00m, \u001B[38;5;241m*\u001B[39m\u001B[38;5;241m*\u001B[39mkwargs):\n\u001B[1;32m-> 2757\u001B[0m     \u001B[38;5;28;01mreturn\u001B[39;00m gca()\u001B[38;5;241m.\u001B[39mplot(\n\u001B[0;32m   2758\u001B[0m         \u001B[38;5;241m*\u001B[39margs, scalex\u001B[38;5;241m=\u001B[39mscalex, scaley\u001B[38;5;241m=\u001B[39mscaley,\n\u001B[0;32m   2759\u001B[0m         \u001B[38;5;241m*\u001B[39m\u001B[38;5;241m*\u001B[39m({\u001B[38;5;124m\"\u001B[39m\u001B[38;5;124mdata\u001B[39m\u001B[38;5;124m\"\u001B[39m: data} \u001B[38;5;28;01mif\u001B[39;00m data \u001B[38;5;129;01mis\u001B[39;00m \u001B[38;5;129;01mnot\u001B[39;00m \u001B[38;5;28;01mNone\u001B[39;00m \u001B[38;5;28;01melse\u001B[39;00m {}), \u001B[38;5;241m*\u001B[39m\u001B[38;5;241m*\u001B[39mkwargs)\n",
      "File \u001B[1;32m~\\anaconda3\\lib\\site-packages\\matplotlib\\axes\\_axes.py:1632\u001B[0m, in \u001B[0;36mAxes.plot\u001B[1;34m(self, scalex, scaley, data, *args, **kwargs)\u001B[0m\n\u001B[0;32m   1390\u001B[0m \u001B[38;5;124;03m\"\"\"\u001B[39;00m\n\u001B[0;32m   1391\u001B[0m \u001B[38;5;124;03mPlot y versus x as lines and/or markers.\u001B[39;00m\n\u001B[0;32m   1392\u001B[0m \n\u001B[1;32m   (...)\u001B[0m\n\u001B[0;32m   1629\u001B[0m \u001B[38;5;124;03m(``'green'``) or hex strings (``'#008000'``).\u001B[39;00m\n\u001B[0;32m   1630\u001B[0m \u001B[38;5;124;03m\"\"\"\u001B[39;00m\n\u001B[0;32m   1631\u001B[0m kwargs \u001B[38;5;241m=\u001B[39m cbook\u001B[38;5;241m.\u001B[39mnormalize_kwargs(kwargs, mlines\u001B[38;5;241m.\u001B[39mLine2D)\n\u001B[1;32m-> 1632\u001B[0m lines \u001B[38;5;241m=\u001B[39m [\u001B[38;5;241m*\u001B[39m\u001B[38;5;28mself\u001B[39m\u001B[38;5;241m.\u001B[39m_get_lines(\u001B[38;5;241m*\u001B[39margs, data\u001B[38;5;241m=\u001B[39mdata, \u001B[38;5;241m*\u001B[39m\u001B[38;5;241m*\u001B[39mkwargs)]\n\u001B[0;32m   1633\u001B[0m \u001B[38;5;28;01mfor\u001B[39;00m line \u001B[38;5;129;01min\u001B[39;00m lines:\n\u001B[0;32m   1634\u001B[0m     \u001B[38;5;28mself\u001B[39m\u001B[38;5;241m.\u001B[39madd_line(line)\n",
      "File \u001B[1;32m~\\anaconda3\\lib\\site-packages\\matplotlib\\axes\\_base.py:312\u001B[0m, in \u001B[0;36m_process_plot_var_args.__call__\u001B[1;34m(self, data, *args, **kwargs)\u001B[0m\n\u001B[0;32m    310\u001B[0m     this \u001B[38;5;241m+\u001B[39m\u001B[38;5;241m=\u001B[39m args[\u001B[38;5;241m0\u001B[39m],\n\u001B[0;32m    311\u001B[0m     args \u001B[38;5;241m=\u001B[39m args[\u001B[38;5;241m1\u001B[39m:]\n\u001B[1;32m--> 312\u001B[0m \u001B[38;5;28;01myield from\u001B[39;00m \u001B[38;5;28;43mself\u001B[39;49m\u001B[38;5;241;43m.\u001B[39;49m\u001B[43m_plot_args\u001B[49m\u001B[43m(\u001B[49m\u001B[43mthis\u001B[49m\u001B[43m,\u001B[49m\u001B[43m \u001B[49m\u001B[43mkwargs\u001B[49m\u001B[43m)\u001B[49m\n",
      "File \u001B[1;32m~\\anaconda3\\lib\\site-packages\\matplotlib\\axes\\_base.py:459\u001B[0m, in \u001B[0;36m_process_plot_var_args._plot_args\u001B[1;34m(self, tup, kwargs, return_kwargs)\u001B[0m\n\u001B[0;32m    456\u001B[0m \u001B[38;5;66;03m# Don't allow any None value; these would be up-converted to one\u001B[39;00m\n\u001B[0;32m    457\u001B[0m \u001B[38;5;66;03m# element array of None which causes problems downstream.\u001B[39;00m\n\u001B[0;32m    458\u001B[0m \u001B[38;5;28;01mif\u001B[39;00m \u001B[38;5;28many\u001B[39m(v \u001B[38;5;129;01mis\u001B[39;00m \u001B[38;5;28;01mNone\u001B[39;00m \u001B[38;5;28;01mfor\u001B[39;00m v \u001B[38;5;129;01min\u001B[39;00m tup):\n\u001B[1;32m--> 459\u001B[0m     \u001B[38;5;28;01mraise\u001B[39;00m \u001B[38;5;167;01mValueError\u001B[39;00m(\u001B[38;5;124m\"\u001B[39m\u001B[38;5;124mx, y, and format string must not be None\u001B[39m\u001B[38;5;124m\"\u001B[39m)\n\u001B[0;32m    461\u001B[0m kw \u001B[38;5;241m=\u001B[39m {}\n\u001B[0;32m    462\u001B[0m \u001B[38;5;28;01mfor\u001B[39;00m prop_name, val \u001B[38;5;129;01min\u001B[39;00m \u001B[38;5;28mzip\u001B[39m((\u001B[38;5;124m'\u001B[39m\u001B[38;5;124mlinestyle\u001B[39m\u001B[38;5;124m'\u001B[39m, \u001B[38;5;124m'\u001B[39m\u001B[38;5;124mmarker\u001B[39m\u001B[38;5;124m'\u001B[39m, \u001B[38;5;124m'\u001B[39m\u001B[38;5;124mcolor\u001B[39m\u001B[38;5;124m'\u001B[39m),\n\u001B[0;32m    463\u001B[0m                           (linestyle, marker, color)):\n",
      "\u001B[1;31mValueError\u001B[0m: x, y, and format string must not be None"
     ]
    },
    {
     "data": {
      "text/plain": "<Figure size 1296x216 with 1 Axes>",
      "image/png": "[encoded data removed]"
     },
     "metadata": {},
     "output_type": "display_data"
    }
   ],
   "source": [
    "plt.figure(figsize=(18,3))\n",
    "plt.plot(kreg.loss, c='red')\n",
    "plt.show()"
   ],
   "metadata": {
    "collapsed": false,
    "pycharm": {
     "name": "#%%\n"
    }
   }
  },
  {
   "cell_type": "code",
   "execution_count": null,
   "outputs": [],
   "source": [],
   "metadata": {
    "collapsed": false,
    "pycharm": {
     "name": "#%%\n"
    }
   }
  }
 ],
 "metadata": {
  "kernelspec": {
   "display_name": "Python 3",
   "language": "python",
   "name": "python3"
  },
  "language_info": {
   "codemirror_mode": {
    "name": "ipython",
    "version": 2
   },
   "file_extension": ".py",
   "mimetype": "text/x-python",
   "name": "python",
   "nbconvert_exporter": "python",
   "pygments_lexer": "ipython2",
   "version": "2.7.6"
  }
 },
 "nbformat": 4,
 "nbformat_minor": 0
}